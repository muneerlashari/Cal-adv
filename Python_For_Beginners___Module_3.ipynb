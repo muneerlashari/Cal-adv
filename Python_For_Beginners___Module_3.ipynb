{
  "nbformat": 4,
  "nbformat_minor": 0,
  "metadata": {
    "colab": {
      "provenance": []
    },
    "kernelspec": {
      "name": "python3",
      "display_name": "Python 3"
    },
    "language_info": {
      "name": "python"
    }
  },
  "cells": [
    {
      "cell_type": "markdown",
      "source": [
        "# ***Print Statements***"
      ],
      "metadata": {
        "id": "HHhsMdE7pLOh"
      }
    },
    {
      "cell_type": "code",
      "source": [
        "print(\"Hello World\")"
      ],
      "metadata": {
        "colab": {
          "base_uri": "https://localhost:8080/"
        },
        "id": "nxPt0HS2YjYV",
        "outputId": "7a043b9a-17a8-4fd8-9fe2-1d656d16d070"
      },
      "execution_count": null,
      "outputs": [
        {
          "output_type": "stream",
          "name": "stdout",
          "text": [
            "Hello World\n"
          ]
        }
      ]
    },
    {
      "cell_type": "code",
      "source": [
        "print(\"It is a book.\")"
      ],
      "metadata": {
        "colab": {
          "base_uri": "https://localhost:8080/"
        },
        "id": "wdQ9A0mFp3ls",
        "outputId": "2cf3d91b-af29-4669-97b0-d2514850f488"
      },
      "execution_count": null,
      "outputs": [
        {
          "output_type": "stream",
          "name": "stdout",
          "text": [
            "It is a book.\n"
          ]
        }
      ]
    },
    {
      "cell_type": "markdown",
      "source": [
        "# Comments"
      ],
      "metadata": {
        "id": "47c7tLO0qDA3"
      }
    },
    {
      "cell_type": "code",
      "source": [
        "# print(\"HEllo World\")"
      ],
      "metadata": {
        "id": "L0EduxRmqbHG"
      },
      "execution_count": null,
      "outputs": []
    },
    {
      "cell_type": "code",
      "source": [
        "\"\"\"\n",
        "print(\"Hello World\")\n",
        "\n",
        "Blah Blah\n",
        "\"\"\"\n",
        "\n",
        "# this line is written to print a statement\n",
        "print(\"It is a book.\")"
      ],
      "metadata": {
        "colab": {
          "base_uri": "https://localhost:8080/"
        },
        "id": "dyPwYd9QqExc",
        "outputId": "efde7244-1694-48ca-fee4-011c8f2ecc73"
      },
      "execution_count": null,
      "outputs": [
        {
          "output_type": "stream",
          "name": "stdout",
          "text": [
            "It is a book.\n"
          ]
        }
      ]
    },
    {
      "cell_type": "markdown",
      "source": [
        "# Variables"
      ],
      "metadata": {
        "id": "92EfuGdbrRes"
      }
    },
    {
      "cell_type": "code",
      "source": [
        "a = 10\n",
        "print(a)\n",
        "\n",
        "\n",
        "b_1 = 20\n",
        "print(b_1)\n",
        "\n",
        "# Gives Error\n",
        "# a b = 20\n",
        "# print(a b)\n",
        "\n",
        "# Give Error\n",
        "# for = 5\n",
        "\n",
        "# print(for)\n",
        "\n",
        "\n",
        "a = 10\n",
        "A = 20\n",
        "\n",
        "print(a)\n",
        "print(A)"
      ],
      "metadata": {
        "colab": {
          "base_uri": "https://localhost:8080/"
        },
        "id": "wvrZ5JI1qy6h",
        "outputId": "77548245-418d-4abd-9922-76fa10b472ec"
      },
      "execution_count": null,
      "outputs": [
        {
          "output_type": "stream",
          "name": "stdout",
          "text": [
            "10\n",
            "20\n",
            "10\n",
            "20\n"
          ]
        }
      ]
    },
    {
      "cell_type": "code",
      "source": [
        "a = 10\n",
        "print(type(a))\n",
        "\n",
        "b = 2.2\n",
        "print(type(b))\n",
        "\n",
        "c = 'Hello'\n",
        "print(type(c))\n",
        "\n",
        "d = False\n",
        "print(type(d))\n",
        "\n"
      ],
      "metadata": {
        "colab": {
          "base_uri": "https://localhost:8080/"
        },
        "id": "C2wGb7BlsYKG",
        "outputId": "dd563b6c-9b8d-40a8-d5bd-2313a74eaa23"
      },
      "execution_count": null,
      "outputs": [
        {
          "output_type": "stream",
          "name": "stdout",
          "text": [
            "<class 'int'>\n",
            "<class 'float'>\n",
            "<class 'str'>\n",
            "<class 'bool'>\n"
          ]
        }
      ]
    },
    {
      "cell_type": "code",
      "source": [
        "print(\"c\")\n",
        "\n",
        "print(\"Hello World = \", a, b)"
      ],
      "metadata": {
        "colab": {
          "base_uri": "https://localhost:8080/"
        },
        "id": "bJ-xsowiteAX",
        "outputId": "81cdd174-4aca-4f5a-8480-083a74dc388f"
      },
      "execution_count": null,
      "outputs": [
        {
          "output_type": "stream",
          "name": "stdout",
          "text": [
            "c\n",
            "Hello World =  10 2.2\n"
          ]
        }
      ]
    },
    {
      "cell_type": "markdown",
      "source": [
        "Variables"
      ],
      "metadata": {
        "id": "t9fzBBhytZrH"
      }
    },
    {
      "cell_type": "code",
      "source": [
        "\n",
        "a = 5\n",
        "b = 2\n",
        "\n",
        "# Sum\n",
        "print(a+b)\n",
        "\n",
        "# Subtract\n",
        "print(a-b)\n",
        "\n",
        "# Multiply\n",
        "print(a*b)\n",
        "\n",
        "# Divide\n",
        "print(a/b)\n",
        "\n",
        "# Integer Division\n",
        "print(a//b)\n",
        "\n",
        "# Power\n",
        "print(a**b)"
      ],
      "metadata": {
        "colab": {
          "base_uri": "https://localhost:8080/"
        },
        "id": "nbiNcsf_ugKq",
        "outputId": "157a04cf-f22c-45dc-8bca-62e3a055909d"
      },
      "execution_count": null,
      "outputs": [
        {
          "output_type": "stream",
          "name": "stdout",
          "text": [
            "7\n",
            "3\n",
            "10\n",
            "2.5\n",
            "2\n",
            "25\n"
          ]
        }
      ]
    },
    {
      "cell_type": "code",
      "source": [
        "a = True\n",
        "b = False\n",
        "c = True\n",
        "print(a and b and c)\n",
        "\n",
        "print(a or b)\n",
        "\n",
        "print(not a)"
      ],
      "metadata": {
        "colab": {
          "base_uri": "https://localhost:8080/"
        },
        "id": "12zSMYUsuxpG",
        "outputId": "87691f10-2d74-4160-88c4-63e9f1103876"
      },
      "execution_count": null,
      "outputs": [
        {
          "output_type": "stream",
          "name": "stdout",
          "text": [
            "False\n",
            "True\n",
            "False\n"
          ]
        }
      ]
    },
    {
      "cell_type": "code",
      "source": [
        "a = 5\n",
        "b = 2\n",
        "c = 5\n",
        "#       T   and   T\n",
        "print(a > b and a == c)\n",
        "\n",
        "print(a < b and a < c)\n",
        "\n",
        "print(a != b)\n",
        "\n",
        "print(a >= b)\n",
        "\n",
        "print(a <= b)\n",
        "\n",
        "#      5 == 2\n",
        "print(a == b)\n",
        "\n"
      ],
      "metadata": {
        "colab": {
          "base_uri": "https://localhost:8080/"
        },
        "id": "z973TIhKv5cJ",
        "outputId": "e9f51b39-e117-4e19-d059-74ed5c841e7a"
      },
      "execution_count": null,
      "outputs": [
        {
          "output_type": "stream",
          "name": "stdout",
          "text": [
            "True\n",
            "False\n",
            "True\n",
            "True\n",
            "False\n",
            "False\n",
            "False\n"
          ]
        }
      ]
    },
    {
      "cell_type": "code",
      "source": [
        "a = 5   # int\n",
        "b = \"5\" # str\n",
        "\n",
        "a = b      # \"5\"\n",
        "\n",
        "print(a)\n",
        "print(b)\n",
        "print(a == b)"
      ],
      "metadata": {
        "colab": {
          "base_uri": "https://localhost:8080/"
        },
        "id": "SQTujACmxT7c",
        "outputId": "ac232668-4515-4506-a1d8-dad70207f4ac"
      },
      "execution_count": null,
      "outputs": [
        {
          "output_type": "stream",
          "name": "stdout",
          "text": [
            "5\n",
            "5\n",
            "True\n"
          ]
        }
      ]
    },
    {
      "cell_type": "markdown",
      "source": [
        "# Decision Making"
      ],
      "metadata": {
        "id": "ScoDiYvKyCw-"
      }
    },
    {
      "cell_type": "code",
      "source": [
        "a = 5\n",
        "\n",
        "if a > 5:\n",
        "    print(\"Greater\")\n",
        "else:\n",
        "    print(\"a is not greater or equal to 5\")"
      ],
      "metadata": {
        "colab": {
          "base_uri": "https://localhost:8080/"
        },
        "id": "d9b8Dp9wyE8x",
        "outputId": "0cc09edc-7fbf-412f-ad04-b00da9115517"
      },
      "execution_count": null,
      "outputs": [
        {
          "output_type": "stream",
          "name": "stdout",
          "text": [
            "a is not greater or equal to 5\n"
          ]
        }
      ]
    },
    {
      "cell_type": "code",
      "source": [
        "a = 5\n",
        "b = 2\n",
        "if a == 5 and b == 2:\n",
        "    print(\"a is equal to 5 and b is equal to 2\")\n",
        "    # print(\"Hello World\")\n",
        "elif a > 5 and b > 2:\n",
        "    print(\"a is greater than 5\")\n",
        "else:\n",
        "    print(\"a equal to 5 and b is equal to 3\")"
      ],
      "metadata": {
        "colab": {
          "base_uri": "https://localhost:8080/"
        },
        "id": "5xHRN8W1ye1-",
        "outputId": "f01931e0-2b83-4124-cb97-333f298bf538"
      },
      "execution_count": null,
      "outputs": [
        {
          "output_type": "stream",
          "name": "stdout",
          "text": [
            "Hello World\n"
          ]
        }
      ]
    },
    {
      "cell_type": "markdown",
      "source": [
        "# Loops\n",
        "\n",
        "\n",
        "\n",
        "*   While Loop\n",
        "*   For Loop\n",
        "\n"
      ],
      "metadata": {
        "id": "05KYmy6WzWTK"
      }
    },
    {
      "cell_type": "code",
      "source": [
        "# while condition:\n",
        "#   code\n",
        "#   increment"
      ],
      "metadata": {
        "id": "2jFErLqxy0R2"
      },
      "execution_count": null,
      "outputs": []
    },
    {
      "cell_type": "code",
      "source": [
        "i = -2\n",
        "while i<10:\n",
        "    print(i)\n",
        "    i += 2\n",
        "\n",
        "print(\"Loop Ended\")"
      ],
      "metadata": {
        "colab": {
          "base_uri": "https://localhost:8080/"
        },
        "id": "EWc0IB_kz6Wu",
        "outputId": "f5cff1ed-1443-4173-c25d-9b01f73de44a"
      },
      "execution_count": null,
      "outputs": [
        {
          "output_type": "stream",
          "name": "stdout",
          "text": [
            "-2\n",
            "0\n",
            "2\n",
            "4\n",
            "6\n",
            "8\n",
            "Loop Ended\n"
          ]
        }
      ]
    },
    {
      "cell_type": "code",
      "source": [
        "# for variable in range(start, end, step/jump):\n",
        "#   statements\n",
        "\n",
        "# start -> inclusive\n",
        "# end -> exclusive"
      ],
      "metadata": {
        "id": "IO4YYMza00BH"
      },
      "execution_count": null,
      "outputs": []
    },
    {
      "cell_type": "code",
      "source": [
        "for i in range(0, 10, 2):\n",
        "    print(i)"
      ],
      "metadata": {
        "colab": {
          "base_uri": "https://localhost:8080/"
        },
        "id": "SfZeI58h1AOk",
        "outputId": "627e7e31-85c4-417c-bcf5-c9a45163ca01"
      },
      "execution_count": null,
      "outputs": [
        {
          "output_type": "stream",
          "name": "stdout",
          "text": [
            "0\n",
            "2\n",
            "4\n",
            "6\n",
            "8\n"
          ]
        }
      ]
    },
    {
      "cell_type": "markdown",
      "source": [
        "# Built-in Function"
      ],
      "metadata": {
        "id": "SYyAySuD1uCu"
      }
    },
    {
      "cell_type": "code",
      "source": [
        "a = 4\n",
        "b = 5\n",
        "print(max(a, b))\n",
        "print(min(a, b))"
      ],
      "metadata": {
        "colab": {
          "base_uri": "https://localhost:8080/"
        },
        "id": "0Md9Fb6O1wl-",
        "outputId": "818707c9-cbf6-4872-98f6-2779f7cb5576"
      },
      "execution_count": null,
      "outputs": [
        {
          "output_type": "stream",
          "name": "stdout",
          "text": [
            "5\n",
            "4\n"
          ]
        }
      ]
    },
    {
      "cell_type": "markdown",
      "source": [
        "# User Defined"
      ],
      "metadata": {
        "id": "XrFYvuWw168d"
      }
    },
    {
      "cell_type": "code",
      "source": [
        "def comparison(a, b):\n",
        "    c = a < b\n",
        "\n",
        "    return c\n",
        "\n",
        "output = comparison(2, 3)\n",
        "print(output)"
      ],
      "metadata": {
        "colab": {
          "base_uri": "https://localhost:8080/"
        },
        "id": "oOXqlzRY19S1",
        "outputId": "e68200b0-96f6-45d6-bee6-a2f8ff81c54b"
      },
      "execution_count": null,
      "outputs": [
        {
          "output_type": "stream",
          "name": "stdout",
          "text": [
            "True\n"
          ]
        }
      ]
    },
    {
      "cell_type": "markdown",
      "source": [
        "# List"
      ],
      "metadata": {
        "id": "TQz8m0nl3QDw"
      }
    },
    {
      "cell_type": "code",
      "source": [
        "#       -3  -2   -1\n",
        "#          0  1  2\n",
        "my_list = [1, 2, 3]\n",
        "\n",
        "print(my_list[0])\n",
        "print(my_list[-1])\n",
        "\n",
        "my_list[0] = 100\n",
        "\n",
        "print(my_list)"
      ],
      "metadata": {
        "colab": {
          "base_uri": "https://localhost:8080/"
        },
        "id": "lWmuLMhh3R7K",
        "outputId": "972678b3-c22e-4f08-eb52-d9de8fa8a92b"
      },
      "execution_count": null,
      "outputs": [
        {
          "output_type": "stream",
          "name": "stdout",
          "text": [
            "1\n",
            "3\n",
            "[100, 2, 3]\n"
          ]
        }
      ]
    },
    {
      "cell_type": "markdown",
      "source": [
        "# Tuple"
      ],
      "metadata": {
        "id": "Romsapsa-eq2"
      }
    },
    {
      "cell_type": "code",
      "source": [
        "my_tuple = (100, 10, 1)\n",
        "\n",
        "print(my_tuple[0])\n",
        "\n",
        "# Error\n",
        "# my_tuple[1] = 200\n",
        "\n",
        "# print(my_tuple)"
      ],
      "metadata": {
        "colab": {
          "base_uri": "https://localhost:8080/",
          "height": 234
        },
        "id": "3jd1NlLf3rOI",
        "outputId": "c509251a-29e8-4090-ee04-57b3f7321ae8"
      },
      "execution_count": null,
      "outputs": [
        {
          "output_type": "stream",
          "name": "stdout",
          "text": [
            "100\n"
          ]
        },
        {
          "output_type": "error",
          "ename": "TypeError",
          "evalue": "'tuple' object does not support item assignment",
          "traceback": [
            "\u001b[0;31m---------------------------------------------------------------------------\u001b[0m",
            "\u001b[0;31mTypeError\u001b[0m                                 Traceback (most recent call last)",
            "\u001b[0;32m<ipython-input-80-2a0077b9fbae>\u001b[0m in \u001b[0;36m<cell line: 5>\u001b[0;34m()\u001b[0m\n\u001b[1;32m      3\u001b[0m \u001b[0mprint\u001b[0m\u001b[0;34m(\u001b[0m\u001b[0mmy_tuple\u001b[0m\u001b[0;34m[\u001b[0m\u001b[0;36m0\u001b[0m\u001b[0;34m]\u001b[0m\u001b[0;34m)\u001b[0m\u001b[0;34m\u001b[0m\u001b[0;34m\u001b[0m\u001b[0m\n\u001b[1;32m      4\u001b[0m \u001b[0;34m\u001b[0m\u001b[0m\n\u001b[0;32m----> 5\u001b[0;31m \u001b[0mmy_tuple\u001b[0m\u001b[0;34m[\u001b[0m\u001b[0;36m1\u001b[0m\u001b[0;34m]\u001b[0m \u001b[0;34m=\u001b[0m \u001b[0;36m200\u001b[0m\u001b[0;34m\u001b[0m\u001b[0;34m\u001b[0m\u001b[0m\n\u001b[0m\u001b[1;32m      6\u001b[0m \u001b[0;34m\u001b[0m\u001b[0m\n\u001b[1;32m      7\u001b[0m \u001b[0mprint\u001b[0m\u001b[0;34m(\u001b[0m\u001b[0mmy_tuple\u001b[0m\u001b[0;34m)\u001b[0m\u001b[0;34m\u001b[0m\u001b[0;34m\u001b[0m\u001b[0m\n",
            "\u001b[0;31mTypeError\u001b[0m: 'tuple' object does not support item assignment"
          ]
        }
      ]
    },
    {
      "cell_type": "markdown",
      "source": [
        "# Set"
      ],
      "metadata": {
        "id": "aYMjYRfN4KUK"
      }
    },
    {
      "cell_type": "code",
      "source": [
        "my_set = {1, 2 ,3 , 4, 2, 3}\n",
        "\n",
        "print(my_set)\n",
        "\n",
        "if 100 in my_set:\n",
        "    print(\"Yes\")\n",
        "else:\n",
        "    print(\"No\")\n",
        "\n",
        "for ele in my_set:\n",
        "    print(ele)\n",
        "\n",
        "# Error\n",
        "# print(my_set[0])"
      ],
      "metadata": {
        "colab": {
          "base_uri": "https://localhost:8080/"
        },
        "id": "slFpS2UI4ME7",
        "outputId": "a3e14572-325c-45dd-c347-2e65ee496b69"
      },
      "execution_count": null,
      "outputs": [
        {
          "output_type": "stream",
          "name": "stdout",
          "text": [
            "{1, 2, 3, 4}\n",
            "No\n",
            "1\n",
            "2\n",
            "3\n",
            "4\n"
          ]
        }
      ]
    },
    {
      "cell_type": "markdown",
      "source": [
        "# Dictionary"
      ],
      "metadata": {
        "id": "0CFBYnLB-hgV"
      }
    },
    {
      "cell_type": "code",
      "source": [
        "my_dic = {\"fruit1\" : \"apple\", \"fruit2\" : \"Orange\", \"rate\" : 200}\n",
        "\n",
        "print(my_dic[\"fruit1\"])\n",
        "print(my_dic[\"fruit2\"])\n",
        "print(my_dic[\"rate\"])\n"
      ],
      "metadata": {
        "colab": {
          "base_uri": "https://localhost:8080/"
        },
        "id": "BpDJWsj844a9",
        "outputId": "5fa485e9-7979-4dd4-cccf-e26410542268"
      },
      "execution_count": null,
      "outputs": [
        {
          "output_type": "stream",
          "name": "stdout",
          "text": [
            "apple\n",
            "Orange\n",
            "200\n"
          ]
        }
      ]
    }
  ]
}